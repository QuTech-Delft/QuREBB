{
 "cells": [
  {
   "cell_type": "code",
   "execution_count": null,
   "id": "6519b90c-dfee-4cf9-b4bd-a8678929524a",
   "metadata": {},
   "outputs": [],
   "source": [
    "import sys\n",
    "from os.path import abspath, join\n",
    "repo_path = abspath('').split('QuREBB')[0] + 'QuREBB'\n",
    "sys.path.append(repo_path)\n",
    "import copy\n",
    "\n",
    "import numpy as np\n",
    "import matplotlib.pyplot as plt\n",
    "import lib.protocol as protocol\n",
    "from protocols.tutorial_protocols import ProtocolA, ProtocolB, ProtocolC"
   ]
  },
  {
   "cell_type": "code",
   "execution_count": null,
   "id": "f1f20ed4-0737-4734-9850-9ebddd97ba1c",
   "metadata": {},
   "outputs": [],
   "source": [
    "save_path = \"simulation_datasets/\"\n",
    "\n",
    "common_params = {\n",
    "    'gamma_dephasing': 30.5e6,\n",
    "    'splitting': 1e9,\n",
    "    'DW': 0.7,\n",
    "    'QE': 0.2,\n",
    "    'link_loss': 0.99,\n",
    "    'insertion_loss': 0.5,\n",
    "    'dim': 3,\n",
    "    'dc_rate': 0,\n",
    "    'ideal': False\n",
    "}\n",
    "\n",
    "projector_params = {\n",
    "    'f_operation': 0e9,\n",
    "    'delta': 0e9,\n",
    "    'kappa_r': 21.8e9/2,\n",
    "    'kappa_t': 21.8e9/2, \n",
    "    'gamma': 92.5e6,\n",
    "    'g': 8.38e9,\n",
    "    'dc_rate': 0.000,\n",
    "}\n",
    "\n",
    "emission_params = {\n",
    "    'f_operation': 0e9,\n",
    "    'delta': 0e9,\n",
    "    'kappa_in': 240e9,\n",
    "    'kappa_loss': 89e9, \n",
    "    'gamma': 100e6,\n",
    "    'g': 6.81e9,\n",
    "    'alpha': 0.1\n",
    "}\n",
    "\n",
    "sweep_params_projector ={\n",
    "    \n",
    "    'delta': np.linspace(0e9,120e9, int(60)),\n",
    "    \n",
    "    'f_operation': np.linspace(-18e9,0e9, int(1000)),\n",
    "}\n",
    "\n",
    "sweep_params_emission ={   \n",
    "    'alpha' : np.linspace(0.0000001, 0.3, 500)\n",
    "}\n",
    "\n",
    "projector_params.update(common_params)\n",
    "emission_params.update(common_params)"
   ]
  },
  {
   "cell_type": "markdown",
   "id": "9942d9ff-3680-48ee-8df4-8cc21f402ed3",
   "metadata": {},
   "source": [
    "# Simulate Basic Protocols"
   ]
  },
  {
   "cell_type": "markdown",
   "id": "baceb088-5c38-4d5b-b71e-e2f2d88b025f",
   "metadata": {},
   "source": [
    "## Protocol A"
   ]
  },
  {
   "cell_type": "code",
   "execution_count": null,
   "id": "b9b37e0c-7f5b-499c-9fe4-4f88cb01127a",
   "metadata": {},
   "outputs": [],
   "source": [
    "ps_A = protocol.ProtocolSweep(ProtocolA, emission_params, sweep_params_emission, save_results=True, save_folder=save_path, save_name='ProtocolA')"
   ]
  },
  {
   "cell_type": "code",
   "execution_count": null,
   "id": "0abbcb76-e03c-444a-b3a5-248071f844cb",
   "metadata": {},
   "outputs": [],
   "source": [
    "ps_A.run()\n",
    "\n",
    "ps_A.generate_fidelity_rate_curve(type_axis = 'log')\n",
    "ps_A.save_dataset_fidelity_rate()"
   ]
  },
  {
   "cell_type": "code",
   "execution_count": null,
   "id": "4c0f68bf-b651-4b6b-b665-2724b44cd6fb",
   "metadata": {},
   "outputs": [],
   "source": [
    "fig, ax = plt.subplots(1,3, figsize=(8,3))\n",
    "\n",
    "ps_A.dataset.fidelity.plot(ax=ax[0])\n",
    "ps_A.dataset.rate.plot(ax=ax[1])\n",
    "ps_A.dataset_fidelity_rate.fidelity.plot(ax=ax[2])\n",
    "\n",
    "fig.tight_layout()"
   ]
  },
  {
   "cell_type": "markdown",
   "id": "e59466aa-1828-4a72-a671-644506c35c7a",
   "metadata": {},
   "source": [
    "## Protocol B"
   ]
  },
  {
   "cell_type": "code",
   "execution_count": null,
   "id": "4f56aeee-50bd-4a75-a7dc-d699faaed462",
   "metadata": {},
   "outputs": [],
   "source": [
    "ps_B = protocol.ProtocolSweep(ProtocolB, projector_params, sweep_params_projector,save_results=True, save_folder=save_path, save_name='ProtocolB')"
   ]
  },
  {
   "cell_type": "code",
   "execution_count": null,
   "id": "06b4118c-bc1f-4194-87d6-06fb0fd52867",
   "metadata": {},
   "outputs": [],
   "source": [
    "ps_B.run()\n",
    "\n",
    "ps_B.generate_fidelity_rate_curve(type_axis = 'log')\n",
    "ps_B.save_dataset_fidelity_rate()"
   ]
  },
  {
   "cell_type": "code",
   "execution_count": null,
   "id": "92e6e816-0357-411d-8f47-38ef04a9e5b8",
   "metadata": {},
   "outputs": [],
   "source": [
    "fig, ax = plt.subplots(1,3, figsize=(8,3))\n",
    "\n",
    "ps_B.dataset.fidelity.plot(ax=ax[0])\n",
    "ps_B.dataset.rate.plot(ax=ax[1])\n",
    "ps_B.dataset_fidelity_rate.fidelity.plot(ax=ax[2])\n",
    "\n",
    "fig.tight_layout()"
   ]
  },
  {
   "cell_type": "markdown",
   "id": "7635872e-5a15-439d-aef6-3adeefa6ca33",
   "metadata": {},
   "source": [
    "## Protocol C"
   ]
  },
  {
   "cell_type": "code",
   "execution_count": null,
   "id": "b9beeb76-e6d8-4086-a2fd-4c7b36a971c4",
   "metadata": {},
   "outputs": [],
   "source": [
    "ps_C  = protocol.ProtocolSweep(ProtocolC, projector_params, sweep_params_projector, save_results=True, save_folder=save_path, save_name='ProtocolC')"
   ]
  },
  {
   "cell_type": "code",
   "execution_count": null,
   "id": "42ab6830-4685-411f-bbef-d5ca0f447e15",
   "metadata": {},
   "outputs": [],
   "source": [
    "ps_C.run()\n",
    "\n",
    "ps_C.generate_fidelity_rate_curve(type_axis = 'log')\n",
    "ps_C.save_dataset_fidelity_rate()"
   ]
  },
  {
   "cell_type": "code",
   "execution_count": null,
   "id": "21f2ba9b-5867-479f-898c-a15d1eb14ce4",
   "metadata": {},
   "outputs": [],
   "source": [
    "fig, ax = plt.subplots(1,3, figsize=(8,3))\n",
    "\n",
    "ps_C.dataset.fidelity.plot(ax=ax[0])\n",
    "ps_C.dataset.rate.plot(ax=ax[1])\n",
    "ps_C.dataset_fidelity_rate.fidelity.plot(ax=ax[2])\n",
    "\n",
    "fig.tight_layout()"
   ]
  },
  {
   "cell_type": "markdown",
   "id": "cebd114a-1c1b-4daa-8158-d06bf4fce56d",
   "metadata": {},
   "source": [
    "## Protocol C with WCS"
   ]
  },
  {
   "cell_type": "code",
   "execution_count": null,
   "id": "ef0fb256-75aa-46e4-9668-05f2bc461bd6",
   "metadata": {},
   "outputs": [],
   "source": [
    "sweep_params_wcs ={\n",
    "    'delta': np.linspace(0e9,120e9, int(50)),\n",
    "    'f_operation': np.linspace(-15e9,-2e9, int(1200)),\n",
    "    'alpha': np.linspace( 0.001 , 2. , int(10))\n",
    "}\n",
    "\n",
    "projector_params.update(\n",
    "    {\n",
    "        \"dim\": 4,\n",
    "        \"alpha\": 0.1,\n",
    "    }\n",
    ")"
   ]
  },
  {
   "cell_type": "code",
   "execution_count": null,
   "id": "94da6b41-9641-430a-a61a-3155ae543619",
   "metadata": {},
   "outputs": [],
   "source": [
    "ps_C_wcs  = protocol.ProtocolSweep(ProtocolC, projector_params, sweep_params_wcs,save_results=True, save_folder=save_path, save_name='ProtocolC_WCS')"
   ]
  },
  {
   "cell_type": "code",
   "execution_count": null,
   "id": "f08d1cd4-3992-47f4-b538-dce0ac621ba9",
   "metadata": {},
   "outputs": [],
   "source": [
    "ps_C_wcs.run()\n",
    "\n",
    "ps_C_wcs.generate_fidelity_rate_curve(type_axis = 'log')\n",
    "ps_C_wcs.save_dataset_fidelity_rate()"
   ]
  },
  {
   "cell_type": "code",
   "execution_count": null,
   "id": "2a9319e3-c38e-4978-8ea2-8991a00803ce",
   "metadata": {},
   "outputs": [],
   "source": [
    "fig, ax = plt.subplots(1,3, figsize=(8,3))\n",
    "\n",
    "ps_C_wcs.dataset.fidelity.plot(ax=ax[0])\n",
    "ps_C_wcs.dataset.rate.plot(ax=ax[1])\n",
    "ps_C_wcs.dataset_fidelity_rate.fidelity.plot(ax=ax[2])\n",
    "\n",
    "fig.tight_layout()"
   ]
  },
  {
   "cell_type": "code",
   "execution_count": null,
   "id": "f9ff5e60-ed31-4b31-ac35-5f2d7dcf7666",
   "metadata": {},
   "outputs": [],
   "source": []
  },
  {
   "cell_type": "markdown",
   "id": "7e939e11-ca36-4e43-822e-53504165f6cf",
   "metadata": {
    "jp-MarkdownHeadingCollapsed": true
   },
   "source": [
    "# Plotting"
   ]
  },
  {
   "cell_type": "code",
   "execution_count": null,
   "id": "5a5fd540-41b1-406d-8950-6ce0122af616",
   "metadata": {},
   "outputs": [],
   "source": [
    "fig, ax = plt.subplots()\n",
    "\n",
    "(1-ps_A.dataset_fidelity_rate.fidelity).plot(ax=ax, label='Protocol A', marker='.', linestyle='--')\n",
    "(1-ps_B.dataset_fidelity_rate.fidelity).plot(ax=ax, label='Protocol B', marker='.', linestyle='--')\n",
    "(1-ps_C.dataset_fidelity_rate.fidelity).plot(ax=ax, label='Protocol C', marker='.', linestyle='--')\n",
    "(1-ps_C_wcs.dataset_fidelity_rate.fidelity).plot(ax=ax, label='Protocol C with WCS', marker='.', linestyle='--')\n",
    "\n",
    "\n",
    "ax.hlines(0.5, 1e-12,1, color='k', linestyle='--')\n",
    "ax.set_xscale('log')\n",
    "ax.set_yscale('log')\n",
    "ax.set_xlim(1e-12, 1)\n",
    "ax.set_ylabel('Infidelity')\n",
    "plt.legend(loc=2)"
   ]
  },
  {
   "cell_type": "markdown",
   "id": "ebd51af2-87d8-48e8-b953-49d8bbd7c818",
   "metadata": {},
   "source": [
    "# Cooperativity Sweep"
   ]
  },
  {
   "cell_type": "code",
   "execution_count": null,
   "id": "e4193c21-330d-43f8-b585-703a865c2059",
   "metadata": {},
   "outputs": [],
   "source": [
    "common_params = {\n",
    "    'gamma_dephasing': 30.5e6,\n",
    "    'splitting': 1e9,\n",
    "    'DW': 0.7,\n",
    "    'QE': 0.2,\n",
    "    'link_loss': 0.99,\n",
    "    'insertion_loss': 0.5,\n",
    "    'dim': 3,\n",
    "    'dc_rate': 0,\n",
    "    'ideal': False\n",
    "}\n",
    "\n",
    "projector_params = {\n",
    "    'f_operation': 0e9,\n",
    "    'delta': 0e9,\n",
    "    'kappa_r': 21.8e9/2,\n",
    "    'kappa_t': 21.8e9/2, \n",
    "    'gamma': 92.5e6,\n",
    "    'g': 8.38e9,\n",
    "    'dc_rate': 0.000,\n",
    "}\n",
    "\n",
    "projector_params.update(common_params)"
   ]
  },
  {
   "cell_type": "code",
   "execution_count": null,
   "id": "34a1731d-c74f-42e2-aec9-0090a688bacf",
   "metadata": {},
   "outputs": [],
   "source": [
    "sweep_params_projector ={\n",
    "    \n",
    "    'delta': np.linspace(0e10,12e10, int(60)),\n",
    "    \n",
    "    'f_operation': np.linspace(-18e9,0e9, int(1000)),\n",
    "}\n",
    "\n",
    "\n",
    "parameter_sweep_dict = {\n",
    "    \"1\":\n",
    "    {\"delta\": np.linspace(-0.8e10, 0.3e10, 60), \n",
    "     \"f_operation\": np.linspace(-1e9, 4e9, 1201)},\n",
    "    \n",
    "    \"10\":\n",
    "    {\"delta\":np.linspace(-5e10, 1e10, 60), \n",
    "     \"f_operation\":np.linspace(0e9, 7e9, 1201)},\n",
    " \n",
    "    \"50\":\n",
    "    {\"delta\":np.linspace(-7e10, 0.5e10, 60), \n",
    "     \"f_operation\":np.linspace(0e9, 15e9, 1201)},\n",
    "    \n",
    "    \"100\":\n",
    "    {\"delta\":np.linspace(-10e10, 0.5e10, 60), \n",
    "     \"f_operation\":np.linspace(2e9, 20e9, 1201)},\n",
    "    \n",
    "    \"200\":\n",
    "    {\"delta\":np.linspace(-15e10, 1.0e10, 60), \n",
    "     \"f_operation\":np.linspace(2e9, 25e9, 1201)},\n",
    "    \n",
    "    \"500\":\n",
    "    {\"delta\":np.linspace(-22e10, .0e10, 60), \n",
    "     \"f_operation\":np.linspace(5e9, 30e9, 1201)},\n",
    "    \n",
    "    \"1000\":\n",
    "    {\"delta\":np.linspace(-28e10, -2.0e10, 60), \n",
    "     \"f_operation\":np.linspace(10e9, 40e9, 1201)},\n",
    "}"
   ]
  },
  {
   "cell_type": "markdown",
   "id": "88e32f22-61df-4fda-811a-7b661e63e14e",
   "metadata": {},
   "source": [
    "## Sweeping Kappa"
   ]
  },
  {
   "cell_type": "code",
   "execution_count": null,
   "id": "0befb079-f9ec-423a-a80f-27fe5a3501fb",
   "metadata": {},
   "outputs": [],
   "source": [
    "c_sweep = np.array([1, 10, 50, 100, 200, 500, 1000])\n",
    "\n",
    "protocol_sweep_objects_kappa = {}\n",
    "\n",
    "kappa_params = copy.deepcopy(projector_params)\n",
    "\n",
    "for c in c_sweep:\n",
    "    kappa_tot = 4*kappa_params['g']**2/(kappa_params['gamma']+kappa_params['gamma_dephasing'])/c\n",
    "    kappa_params.update({'kappa_r': kappa_tot/2})\n",
    "    kappa_params.update({'kappa_t': kappa_tot/2})\n",
    "\n",
    "    sweep_params = sweep_params_projector\n",
    "\n",
    "    ps_coop  = protocol.ProtocolSweep(ProtocolC, kappa_params, sweep_params, save_results=True, save_folder=save_path, save_name=f\"CoopSweepKappa_C{int(c)}\")\n",
    "\n",
    "    ps_coop.run()\n",
    "    ps_coop.generate_fidelity_rate_curve(type_axis = 'log')\n",
    "    ps_coop.save_dataset_fidelity_rate()\n",
    "\n",
    "    protocol_sweep_objects_kappa.update({str(c): ps_coop})\n"
   ]
  },
  {
   "cell_type": "markdown",
   "id": "09b3125e-315d-4912-aaee-ad5e71a65b94",
   "metadata": {},
   "source": [
    "## Sweeping g"
   ]
  },
  {
   "cell_type": "code",
   "execution_count": null,
   "id": "76aa8d09-a23b-4bd4-a1f4-1df0b5c4a66c",
   "metadata": {},
   "outputs": [],
   "source": [
    "protocol_sweep_objects_g = {}\n",
    "\n",
    "g_params = copy.deepcopy(projector_params)\n",
    "\n",
    "for c in c_sweep:\n",
    "    g = np.sqrt( c * (g_params['kappa_r']+g_params['kappa_t']) * (g_params['gamma']+g_params['gamma_dephasing'])/4  )\n",
    "    g_params.update({'g': g})\n",
    "    sweep_params = parameter_sweep_dict[str(c)]\n",
    "\n",
    "    ps_coop  = protocol.ProtocolSweep(ProtocolC, g_params, sweep_params, save_results=True, save_folder=save_path, save_name=f\"CoopSweepG_C{int(c)}\")\n",
    "\n",
    "    ps_coop.run()\n",
    "    ps_coop.generate_fidelity_rate_curve(type_axis = 'log')\n",
    "    ps_coop.save_dataset_fidelity_rate()\n",
    "\n",
    "    protocol_sweep_objects_g.update({str(c): ps_coop})   \n",
    "    "
   ]
  }
 ],
 "metadata": {
  "kernelspec": {
   "display_name": "Python 3 (ipykernel)",
   "language": "python",
   "name": "python3"
  },
  "language_info": {
   "codemirror_mode": {
    "name": "ipython",
    "version": 3
   },
   "file_extension": ".py",
   "mimetype": "text/x-python",
   "name": "python",
   "nbconvert_exporter": "python",
   "pygments_lexer": "ipython3",
   "version": "3.8.15"
  }
 },
 "nbformat": 4,
 "nbformat_minor": 5
}
